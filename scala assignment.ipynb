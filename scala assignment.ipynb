{
 "cells": [
  {
   "cell_type": "code",
   "execution_count": 1,
   "id": "d18f0505-62bf-4b15-9cac-a27454ad31af",
   "metadata": {},
   "outputs": [
    {
     "data": {
      "text/plain": [
       "Intitializing Scala interpreter ..."
      ]
     },
     "metadata": {},
     "output_type": "display_data"
    },
    {
     "data": {
      "text/plain": [
       "Spark Web UI available at http://172.19.50.151:4042\n",
       "SparkContext available as 'sc' (version = 3.5.2, master = local[*], app id = local-1725855353086)\n",
       "SparkSession available as 'spark'\n"
      ]
     },
     "metadata": {},
     "output_type": "display_data"
    },
    {
     "data": {
      "text/plain": [
       "numbers: Array[Int] = Array(1, 2, 3, 4, 5, 6, 7, 8, 9, 10)\r\n"
      ]
     },
     "execution_count": 1,
     "metadata": {},
     "output_type": "execute_result"
    }
   ],
   "source": [
    "val numbers = Array(1, 2, 3, 4, 5, 6, 7, 8, 9, 10)"
   ]
  },
  {
   "cell_type": "code",
   "execution_count": 2,
   "id": "3bad999a-55ce-488e-8534-349cb255709f",
   "metadata": {},
   "outputs": [
    {
     "name": "stdout",
     "output_type": "stream",
     "text": [
      "Sum of all elements: 55\n"
     ]
    },
    {
     "data": {
      "text/plain": [
       "sum: Int = 55\r\n"
      ]
     },
     "execution_count": 2,
     "metadata": {},
     "output_type": "execute_result"
    }
   ],
   "source": [
    "val sum = numbers.sum\n",
    "    println(\"Sum of all elements: \" + sum)"
   ]
  },
  {
   "cell_type": "code",
   "execution_count": 3,
   "id": "b91b44cd-93c6-4163-862f-d5d3ee30afa9",
   "metadata": {},
   "outputs": [
    {
     "name": "stdout",
     "output_type": "stream",
     "text": [
      "Average of all elements: 5.5\n"
     ]
    },
    {
     "data": {
      "text/plain": [
       "average: Double = 5.5\r\n"
      ]
     },
     "execution_count": 3,
     "metadata": {},
     "output_type": "execute_result"
    }
   ],
   "source": [
    "val average = sum / numbers.length.toDouble\n",
    "    println(\"Average of all elements: \" + average)"
   ]
  },
  {
   "cell_type": "code",
   "execution_count": 4,
   "id": "b5cc1be7-2f13-4cb1-be33-5d523240daa1",
   "metadata": {},
   "outputs": [
    {
     "data": {
      "text/plain": [
       "multipliedNumbers: Array[Int] = Array(2, 4, 6, 8, 10, 12, 14, 16, 18, 20)\r\n"
      ]
     },
     "execution_count": 4,
     "metadata": {},
     "output_type": "execute_result"
    }
   ],
   "source": [
    "val multipliedNumbers = numbers.map(_ * 2)"
   ]
  },
  {
   "cell_type": "code",
   "execution_count": 5,
   "id": "936466ef-9963-4a80-9e4d-9e00d0a35bb1",
   "metadata": {},
   "outputs": [
    {
     "data": {
      "text/plain": [
       "reversedNumbers: Array[Int] = Array(10, 9, 8, 7, 6, 5, 4, 3, 2, 1)\r\n"
      ]
     },
     "execution_count": 5,
     "metadata": {},
     "output_type": "execute_result"
    }
   ],
   "source": [
    "val reversedNumbers = numbers.reverseIterator.toArray"
   ]
  },
  {
   "cell_type": "code",
   "execution_count": 6,
   "id": "3101cb91-6ee9-4673-80ec-566fe805d9b0",
   "metadata": {},
   "outputs": [
    {
     "data": {
      "text/plain": [
       "maxElement: Int = 10\r\n",
       "minElement: Int = 1\r\n"
      ]
     },
     "execution_count": 6,
     "metadata": {},
     "output_type": "execute_result"
    }
   ],
   "source": [
    "val maxElement = numbers.reduce((a, b) => if (a > b) a else b)\n",
    "val minElement = numbers.reduce((a, b) => if (a < b) a else b)"
   ]
  },
  {
   "cell_type": "code",
   "execution_count": 7,
   "id": "baae1fd2-cabd-48c1-b3d4-ebda43fbdac7",
   "metadata": {},
   "outputs": [
    {
     "data": {
      "text/plain": [
       "numbers: List[Int] = List(1, 2, 3, 4, 5, 6, 7, 8, 9, 10)\r\n"
      ]
     },
     "execution_count": 7,
     "metadata": {},
     "output_type": "execute_result"
    }
   ],
   "source": [
    "val numbers = List.range(1, 11)"
   ]
  },
  {
   "cell_type": "code",
   "execution_count": 9,
   "id": "1ba60350-446c-4064-9425-29049dd9bfe0",
   "metadata": {},
   "outputs": [
    {
     "data": {
      "text/plain": [
       "evenNumbers: List[Int] = List(2, 4, 6, 8, 10)\r\n"
      ]
     },
     "execution_count": 9,
     "metadata": {},
     "output_type": "execute_result"
    }
   ],
   "source": [
    "val evenNumbers = numbers.filter(num => num % 2 == 0)"
   ]
  },
  {
   "cell_type": "code",
   "execution_count": 10,
   "id": "8cab3083-ebb3-4737-bb83-32b530be5e7e",
   "metadata": {},
   "outputs": [
    {
     "data": {
      "text/plain": [
       "sumOfEvenNumbers: Int = 30\r\n"
      ]
     },
     "execution_count": 10,
     "metadata": {},
     "output_type": "execute_result"
    }
   ],
   "source": [
    "val sumOfEvenNumbers = evenNumbers.sum"
   ]
  },
  {
   "cell_type": "code",
   "execution_count": 13,
   "id": "275ae136-300c-40eb-b249-3a1cf4f0ce7b",
   "metadata": {},
   "outputs": [
    {
     "data": {
      "text/plain": [
       "defined class Stack\r\n",
       "defined object StackTest\r\n"
      ]
     },
     "execution_count": 13,
     "metadata": {},
     "output_type": "execute_result"
    }
   ],
   "source": [
    "class Stack[T] {\n",
    "  private var elements: List[T] = List.empty[T]\n",
    "\n",
    "  // Push an element onto the stack\n",
    "  def push(element: T): Unit = {\n",
    "    elements = element :: elements\n",
    "  }\n",
    "\n",
    "  // Pop an element off the stack\n",
    "  def pop(): Option[T] = {\n",
    "    elements match {\n",
    "      case Nil => None\n",
    "      case head :: tail =>\n",
    "        elements = tail\n",
    "        Some(head)\n",
    "    }\n",
    "  }\n",
    "\n",
    "  // Peek at the top element of the stack\n",
    "  def peek(): Option[T] = {\n",
    "    elements.headOption\n",
    "  }\n",
    "\n",
    "  // Check if the stack is empty\n",
    "  def isEmpty: Boolean = elements.isEmpty\n",
    "\n",
    "  // Print the stack for debugging\n",
    "  override def toString: String = elements.mkString(\"Stack(\", \", \", \")\")\n",
    "}\n",
    "\n",
    "object StackTest extends App {\n",
    "  val stack = new Stack[Int]\n",
    "\n",
    "  println(\"Pushing elements:\")\n",
    "  stack.push(1)\n",
    "  stack.push(2)\n",
    "  stack.push(3)\n",
    "  println(stack) // Output: Stack(3, 2, 1)\n",
    "\n",
    "  println(\"\\nPeek:\")\n",
    "  println(stack.peek()) // Output: Some(3)\n",
    "\n",
    "  println(\"\\nPopping elements:\")\n",
    "  println(stack.pop()) // Output: Some(3)\n",
    "  println(stack.pop()) // Output: Some(2)\n",
    "  println(stack) // Output: Stack(1)\n",
    "\n",
    "  println(\"\\nIs stack empty?\")\n",
    "  println(stack.isEmpty) // Output: false\n",
    "\n",
    "  println(\"\\nPopping the last element:\")\n",
    "  println(stack.pop()) // Output: Some(1)\n",
    "  println(stack) // Output: Stack()\n",
    "\n",
    "  println(\"\\nIs stack empty now?\")\n",
    "  println(stack.isEmpty) // Output: true\n",
    "}"
   ]
  },
  {
   "cell_type": "code",
   "execution_count": 16,
   "id": "dd18abfc-7321-4a5f-a1e0-ffff47c19663",
   "metadata": {},
   "outputs": [
    {
     "name": "stdout",
     "output_type": "stream",
     "text": [
      "Stack size after pushing: 3\n",
      "Top element (peek): 30\n",
      "Popped element: 30\n",
      "Stack size after popping: 2\n",
      "Top element (peek): 20\n"
     ]
    },
    {
     "data": {
      "text/plain": [
       "defined class Stack\r\n",
       "defined object StackExample\r\n"
      ]
     },
     "execution_count": 16,
     "metadata": {},
     "output_type": "execute_result"
    }
   ],
   "source": [
    "class Stack[A] {\n",
    "  private var elements: List[A] = Nil\n",
    "\n",
    "  // Push element onto the stack\n",
    "  def push(item: A): Unit = {\n",
    "    elements = item :: elements\n",
    "  }\n",
    "\n",
    "  // Pop element from the stack\n",
    "  def pop(): Option[A] = {\n",
    "    elements match {\n",
    "      case Nil => None\n",
    "      case head :: tail =>\n",
    "        elements = tail\n",
    "        Some(head)\n",
    "    }\n",
    "  }\n",
    "\n",
    "  // Peek the top element of the stack without removing it\n",
    "  def peek(): Option[A] = {\n",
    "    elements match {\n",
    "      case Nil => None\n",
    "      case head :: _ => Some(head)\n",
    "    }\n",
    "  }\n",
    "\n",
    "  // Check if the stack is empty\n",
    "  def isEmpty: Boolean = elements.isEmpty\n",
    "\n",
    "  // Size of the stack\n",
    "  def size: Int = elements.size\n",
    "}\n",
    "\n",
    "// Example usage\n",
    "object StackExample {\n",
    "  def main(args: Array[String]): Unit = {\n",
    "    val stack = new Stack[Int]\n",
    "\n",
    "    // Pushing elements onto the stack\n",
    "    stack.push(10)\n",
    "    stack.push(20)\n",
    "    stack.push(30)\n",
    "    println(\"Stack size after pushing: \" + stack.size)\n",
    "\n",
    "    // Peek the top element\n",
    "    println(\"Top element (peek): \" + stack.peek().getOrElse(\"Stack is empty\"))\n",
    "\n",
    "    // Pop elements from the stack\n",
    "    println(\"Popped element: \" + stack.pop().getOrElse(\"Stack is empty\"))\n",
    "    println(\"Stack size after popping: \" + stack.size)\n",
    "\n",
    "    // Peek again after popping\n",
    "    println(\"Top element (peek): \" + stack.peek().getOrElse(\"Stack is empty\"))\n",
    "  }\n",
    "}\n",
    "\n",
    "// Run the program\n",
    "StackExample.main(Array())    "
   ]
  },
  {
   "cell_type": "code",
   "execution_count": 17,
   "id": "6b72964f-565a-4624-aff7-c8924a2c3856",
   "metadata": {},
   "outputs": [
    {
     "data": {
      "text/plain": [
       "countryCapitalMap: Map[String,String] = Map(USA -> Washington, D.C., Japan -> Tokyo, Canada -> Ottawa, France -> Paris, Germany -> Berlin)\r\n"
      ]
     },
     "execution_count": 17,
     "metadata": {},
     "output_type": "execute_result"
    }
   ],
   "source": [
    "// creating map\n",
    "val countryCapitalMap: Map[String, String] = Map(\n",
    "  \"USA\" -> \"Washington, D.C.\",\n",
    "  \"France\" -> \"Paris\",\n",
    "  \"Germany\" -> \"Berlin\",\n",
    "  \"Japan\" -> \"Tokyo\",\n",
    "  \"Canada\" -> \"Ottawa\"\n",
    ")"
   ]
  },
  {
   "cell_type": "code",
   "execution_count": 18,
   "id": "b4b1281c-588a-4307-a044-831c7febe9fe",
   "metadata": {},
   "outputs": [
    {
     "data": {
      "text/plain": [
       "printCapital: (country: String)Unit\r\n"
      ]
     },
     "execution_count": 18,
     "metadata": {},
     "output_type": "execute_result"
    }
   ],
   "source": [
    "// Checking and Printing Capital\n",
    "def printCapital(country: String): Unit = {\n",
    "  countryCapitalMap.get(country) match {\n",
    "    case Some(capital) => println(s\"The capital of $country is $capital.\")\n",
    "    case None => println(s\"Country $country not found in the map.\")\n",
    "  }\n",
    "}"
   ]
  },
  {
   "cell_type": "code",
   "execution_count": 19,
   "id": "30e3ed42-58e1-4a79-b79e-683d4996004c",
   "metadata": {},
   "outputs": [
    {
     "name": "stdout",
     "output_type": "stream",
     "text": [
      "The capital of Germany is Berlin.\n",
      "Country Brazil not found in the map.\n"
     ]
    }
   ],
   "source": [
    "printCapital(\"Germany\")  // Output: The capital of Germany is Berlin.\n",
    "printCapital(\"Brazil\")   // Output: Country Brazil not found in the map."
   ]
  },
  {
   "cell_type": "code",
   "execution_count": 20,
   "id": "1e120565-d710-4d72-bd0b-1ba6dec7a243",
   "metadata": {},
   "outputs": [
    {
     "data": {
      "text/plain": [
       "defined trait Shape\r\n"
      ]
     },
     "execution_count": 20,
     "metadata": {},
     "output_type": "execute_result"
    }
   ],
   "source": [
    "trait Shape {\n",
    "  def area(): Double\n",
    "  def perimeter(): Double\n",
    "}"
   ]
  },
  {
   "cell_type": "code",
   "execution_count": 21,
   "id": "8d5fdd90-172b-4bb8-af40-54cd4b2194e6",
   "metadata": {},
   "outputs": [
    {
     "data": {
      "text/plain": [
       "defined class Circle\r\n"
      ]
     },
     "execution_count": 21,
     "metadata": {},
     "output_type": "execute_result"
    }
   ],
   "source": [
    "// Define the Circle class implementing the Shape trait\n",
    "class Circle(val radius: Double) extends Shape {\n",
    "  // Calculate the area of the circle\n",
    "  override def area(): Double = Math.PI * radius * radius\n",
    "\n",
    "  // Calculate the perimeter (circumference) of the circle\n",
    "  override def perimeter(): Double = 2 * Math.PI * radius\n",
    "}"
   ]
  },
  {
   "cell_type": "code",
   "execution_count": 22,
   "id": "d94c1a41-52f9-465e-b967-b39ed2f1002f",
   "metadata": {},
   "outputs": [
    {
     "data": {
      "text/plain": [
       "defined class Rectangle\r\n"
      ]
     },
     "execution_count": 22,
     "metadata": {},
     "output_type": "execute_result"
    }
   ],
   "source": [
    "// Define the Rectangle class implementing the Shape trait\n",
    "class Rectangle(val width: Double, val height: Double) extends Shape {\n",
    "  // Calculate the area of the rectangle\n",
    "  override def area(): Double = width * height\n",
    "\n",
    "  // Calculate the perimeter of the rectangle\n",
    "  override def perimeter(): Double = 2 * (width + height)\n",
    "}\n"
   ]
  },
  {
   "cell_type": "code",
   "execution_count": 25,
   "id": "f8c3aded-cc14-413a-af5d-5d369863afb6",
   "metadata": {},
   "outputs": [
    {
     "name": "stdout",
     "output_type": "stream",
     "text": [
      "Circle area: 78.53981633974483\n",
      "Circle perimeter: 31.41592653589793\n",
      "Rectangle area: 24.0\n",
      "Rectangle perimeter: 20.0\n"
     ]
    },
    {
     "data": {
      "text/plain": [
       "circle: Circle = Circle@540bed3f\r\n",
       "rectangle: Rectangle = Rectangle@15ea858f\r\n"
      ]
     },
     "execution_count": 25,
     "metadata": {},
     "output_type": "execute_result"
    }
   ],
   "source": [
    "val circle = new Circle(5.0)\n",
    "println(s\"Circle area: ${circle.area()}\")\n",
    "println(s\"Circle perimeter: ${circle.perimeter()}\")\n",
    "\n",
    "val rectangle = new Rectangle(4.0, 6.0)\n",
    "println(s\"Rectangle area: ${rectangle.area()}\")\n",
    "println(s\"Rectangle perimeter: ${rectangle.perimeter()}\")"
   ]
  },
  {
   "cell_type": "code",
   "execution_count": 33,
   "id": "2e6bed2b-2df7-4175-98e8-c0d0dba621b1",
   "metadata": {},
   "outputs": [
    {
     "data": {
      "text/plain": [
       "defined class Animal\r\n"
      ]
     },
     "execution_count": 33,
     "metadata": {},
     "output_type": "execute_result"
    }
   ],
   "source": [
    "// Define the Animal class\n",
    "class Animal {\n",
    "  def speak(): Unit = println(\"The animal makes a sound.\")\n",
    "  def move(): Unit = println(\"The animal moves.\")\n",
    "}"
   ]
  },
  {
   "cell_type": "code",
   "execution_count": 34,
   "id": "681d2864-5f2e-400d-8c30-f13c6dcb403f",
   "metadata": {},
   "outputs": [
    {
     "data": {
      "text/plain": [
       "defined class Dog\r\n",
       "defined class Bird\r\n"
      ]
     },
     "execution_count": 34,
     "metadata": {},
     "output_type": "execute_result"
    }
   ],
   "source": [
    "// Define the Dog class\n",
    "class Dog extends Animal {\n",
    "  override def speak(): Unit = println(\"The dog barks.\")\n",
    "  override def move(): Unit = println(\"The dog runs.\")\n",
    "}\n",
    "\n",
    "// Define the Bird class\n",
    "class Bird extends Animal {\n",
    "  override def speak(): Unit = println(\"The bird chirps.\")\n",
    "  override def move(): Unit = println(\"The bird flies.\")\n",
    "}"
   ]
  },
  {
   "cell_type": "code",
   "execution_count": 35,
   "id": "a5dfdf93-342f-4349-bfe6-d5ae4c568158",
   "metadata": {},
   "outputs": [
    {
     "name": "stdout",
     "output_type": "stream",
     "text": [
      "The dog barks.\n",
      "The dog runs.\n",
      "The bird chirps.\n",
      "The bird flies.\n"
     ]
    },
    {
     "data": {
      "text/plain": [
       "dog: Dog = Dog@4d84eb1d\r\n",
       "bird: Bird = Bird@1e37a8b1\r\n"
      ]
     },
     "execution_count": 35,
     "metadata": {},
     "output_type": "execute_result"
    }
   ],
   "source": [
    "val dog = new Dog\n",
    "dog.speak()\n",
    "dog.move()\n",
    "\n",
    "val bird = new Bird\n",
    "bird.speak()\n",
    "bird.move()"
   ]
  },
  {
   "cell_type": "code",
   "execution_count": 36,
   "id": "cd3aa245-15d7-4314-bde7-da47484cda82",
   "metadata": {},
   "outputs": [
    {
     "name": "stdout",
     "output_type": "stream",
     "text": [
      "The dog barks.\n",
      "The dog runs.\n",
      "The bird chirps.\n",
      "The bird flies.\n"
     ]
    },
    {
     "data": {
      "text/plain": [
       "dogInstance: Dog = Dog@677fbf64\r\n",
       "birdInstance: Bird = Bird@563c6b69\r\n"
      ]
     },
     "execution_count": 36,
     "metadata": {},
     "output_type": "execute_result"
    }
   ],
   "source": [
    "// Create instances of Dog and Bird\n",
    "val dogInstance = new Dog()\n",
    "val birdInstance = new Bird()\n",
    "\n",
    "// Call their speak() and move() methods\n",
    "dogInstance.speak()\n",
    "dogInstance.move()\n",
    "\n",
    "birdInstance.speak()\n",
    "birdInstance.move()"
   ]
  },
  {
   "cell_type": "code",
   "execution_count": 37,
   "id": "39b52218-1e8a-43ac-8257-f79a403508a6",
   "metadata": {},
   "outputs": [
    {
     "name": "stdout",
     "output_type": "stream",
     "text": [
      "Deposited 500.0. New balance: 1500.0\n",
      "Insufficient funds.\n",
      "Your current balance is: 1500.0\n"
     ]
    },
    {
     "data": {
      "text/plain": [
       "defined class BankAccount\r\n",
       "account: BankAccount = BankAccount@69989ea7\r\n"
      ]
     },
     "execution_count": 37,
     "metadata": {},
     "output_type": "execute_result"
    }
   ],
   "source": [
    "class BankAccount {\n",
    "  private var accountNumber: Long = _\n",
    "  private var balance: Double = _\n",
    "\n",
    "  def setAccountNumber(number: Long): Unit = {\n",
    "    accountNumber = number\n",
    "  }\n",
    "\n",
    "  def getAccountNumber(): Long = {\n",
    "    accountNumber\n",
    "  }\n",
    "\n",
    "  def setBalance(amount: Double): Unit = {\n",
    "    if (amount >= 0) {\n",
    "      balance = amount\n",
    "    } else {\n",
    "      println(\"Invalid balance. Must be non-negative.\")\n",
    "    }\n",
    "  }\n",
    "\n",
    "  def getBalance(): Double = {\n",
    "    balance\n",
    "  }\n",
    "\n",
    "  def deposit(amount: Double): Unit = {\n",
    "    if (amount > 0) {\n",
    "      balance += amount\n",
    "      println(s\"Deposited $amount. New balance: $balance\")\n",
    "    } else {\n",
    "      println(\"Invalid deposit amount. Must be positive.\")\n",
    "    }\n",
    "  }\n",
    "\n",
    "  def withdraw(amount: Double): Unit = {\n",
    "    if (amount > 0 && amount <= balance) {\n",
    "      balance -= amount\n",
    "      println(s\"Withdrew $amount. New balance: $balance\")\n",
    "    } else if (amount > balance) {\n",
    "      println(\"Insufficient funds.\")\n",
    "    } else {\n",
    "      println(\"Invalid withdrawal amount. Must be positive.\")\n",
    "    }\n",
    "  }\n",
    "\n",
    "  def displayBalance(): Unit = {\n",
    "    println(s\"Your current balance is: $balance\")\n",
    "  }\n",
    "}\n",
    "val account = new BankAccount()\n",
    "account.setAccountNumber(1234567890)\n",
    "account.setBalance(1000.0)\n",
    "account.deposit(500.0)\n",
    "account.withdraw(2000.0)\n",
    "account.displayBalance()"
   ]
  },
  {
   "cell_type": "code",
   "execution_count": null,
   "id": "2be6a157-c613-4255-a170-5f864a5cf202",
   "metadata": {},
   "outputs": [],
   "source": []
  }
 ],
 "metadata": {
  "kernelspec": {
   "display_name": "spylon-kernel",
   "language": "scala",
   "name": "spylon-kernel"
  },
  "language_info": {
   "codemirror_mode": "text/x-scala",
   "file_extension": ".scala",
   "help_links": [
    {
     "text": "MetaKernel Magics",
     "url": "https://metakernel.readthedocs.io/en/latest/source/README.html"
    }
   ],
   "mimetype": "text/x-scala",
   "name": "scala",
   "pygments_lexer": "scala",
   "version": "0.4.1"
  }
 },
 "nbformat": 4,
 "nbformat_minor": 5
}
